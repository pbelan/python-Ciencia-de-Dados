{
 "cells": [
  {
   "attachments": {},
   "cell_type": "markdown",
   "metadata": {
    "slideshow": {
     "slide_type": "skip"
    }
   },
   "source": [
    "[![Binder](https://mybinder.org/badge_logo.svg)](https://mybinder.org/v2/gh/pbelan/python-Ciencia-de-Dados/main?filepath=notebooks%2FAula_02_Desvio_Condicional_Repeticao.ipynb)\n",
    "<br>\n",
    "[![Open In Colab](https://colab.research.google.com/assets/colab-badge.svg)](https://colab.research.google.com/github/pbelan/python-Ciencia-de-Dados/blob/main/notebooks/Aula_02_Desvio_Condicional_Repeticao.ipynb)"
   ]
  },
  {
   "cell_type": "markdown",
   "metadata": {
    "slideshow": {
     "slide_type": "slide"
    }
   },
   "source": [
    "# Desvio Condicional (`IF`)\n",
    "\n",
    "**Objetivos**: Apresentar desvio condicional em Python (`IF`)"
   ]
  },
  {
   "cell_type": "markdown",
   "metadata": {
    "slideshow": {
     "slide_type": "fragment"
    }
   },
   "source": [
    "Os desvios condicionais, também chamados de estruturas de seleção ou decisão, são\n",
    "utilizados quando existe a necessidade de verificar condições para a realização de uma\n",
    "instrução ou de uma sequência de instruções. Os testes de seleção também podem ser\n",
    "utilizados para verificar opções de escolha."
   ]
  },
  {
   "cell_type": "markdown",
   "metadata": {
    "slideshow": {
     "slide_type": "slide"
    }
   },
   "source": [
    "## Desvio Condicional Simples\n",
    "\n",
    "Esse tipo de desvio é representado por uma instrução que avalia uma expressão lógica, resultando um valor que pode ser verdadeiro ou falso. Ele deve ser utilizado caso seja necessário executar instruções somente se uma condição for verdadeira.\n",
    "\n",
    "**Cuidado com indentação (*identation*)**\n",
    "\n",
    "```python\n",
    "if (condição):\n",
    "    instruções condição verdadeira\n",
    "instruções independentemente da condição ser verdadeira ou não\n",
    "```"
   ]
  },
  {
   "cell_type": "code",
   "execution_count": 1,
   "metadata": {
    "slideshow": {
     "slide_type": "subslide"
    }
   },
   "outputs": [
    {
     "name": "stdout",
     "output_type": "stream",
     "text": [
      "a é igual a b\n",
      "Valor de c:  2\n"
     ]
    }
   ],
   "source": [
    "a = 5\n",
    "b = 5\n",
    "c = 0\n",
    "\n",
    "if a == b:\n",
    "    print('a é igual a b')\n",
    "    c += 2\n",
    "print('Valor de c: ', c)"
   ]
  },
  {
   "cell_type": "code",
   "execution_count": 2,
   "metadata": {
    "slideshow": {
     "slide_type": "subslide"
    }
   },
   "outputs": [
    {
     "name": "stdout",
     "output_type": "stream",
     "text": [
      "Valor de c:  0\n"
     ]
    }
   ],
   "source": [
    "a = 5\n",
    "b = 5\n",
    "c = 0\n",
    "if a != b:\n",
    "    print('a é diferente de b')\n",
    "    c +=2\n",
    "print('Valor de c: ', c)"
   ]
  },
  {
   "cell_type": "code",
   "execution_count": 3,
   "metadata": {
    "slideshow": {
     "slide_type": "subslide"
    }
   },
   "outputs": [
    {
     "name": "stdout",
     "output_type": "stream",
     "text": [
      "a é igual a b\n",
      "c mais cinco é igual a a\n",
      "Valor de c:  4\n"
     ]
    }
   ],
   "source": [
    "a = 5\n",
    "b = 5\n",
    "c = 0\n",
    "\n",
    "if a == b:\n",
    "    print('a é igual a b')\n",
    "    if c + 5 == a:\n",
    "        print('c mais cinco é igual a a')\n",
    "        c += 2\n",
    "    c +=2\n",
    "print('Valor de c: ', c)"
   ]
  },
  {
   "cell_type": "code",
   "execution_count": 4,
   "metadata": {
    "slideshow": {
     "slide_type": "subslide"
    }
   },
   "outputs": [
    {
     "name": "stdout",
     "output_type": "stream",
     "text": [
      "a é igual a b\n",
      "Valor de c:  2\n"
     ]
    }
   ],
   "source": [
    "a = 5\n",
    "b = 5\n",
    "c = 0\n",
    "\n",
    "if a == b:\n",
    "    print('a é igual a b')\n",
    "    if c + 6 == a:\n",
    "        print('c mais seis é igual a a')\n",
    "        c += 2\n",
    "    c +=2\n",
    "print('Valor de c: ', c)"
   ]
  },
  {
   "cell_type": "markdown",
   "metadata": {
    "slideshow": {
     "slide_type": "slide"
    }
   },
   "source": [
    "## Desvio Condicional Composto\n",
    "O desvio condicional composto prevê uma condição com 2 conjuntos de instruções para serem realizados de acordo com a avaliação da resposta: um bloco de instruções para resposta verdadeiro e um bloco de instruções para resposta falso.\n",
    "\n",
    "```python\n",
    "if (condição):\n",
    "    instruções condição verdadeira\n",
    "else:\n",
    "    instrução condição falsa\n",
    "instruções independentemente da condição ser verdadeira ou não\n",
    "```"
   ]
  },
  {
   "cell_type": "code",
   "execution_count": 8,
   "metadata": {
    "slideshow": {
     "slide_type": "subslide"
    }
   },
   "outputs": [
    {
     "name": "stdout",
     "output_type": "stream",
     "text": [
      "a é igual a b\n",
      "c mais cinco é igual a a\n",
      "Valor de c:  2\n"
     ]
    }
   ],
   "source": [
    "a = 5\n",
    "b = 5\n",
    "c = 0\n",
    "\n",
    "if a == b:\n",
    "    print('a é igual a b')\n",
    "    if c + 5 == a:\n",
    "        print('c mais cinco é igual a a')\n",
    "        c += 2\n",
    "else:\n",
    "    c +=3\n",
    "print('Valor de c: ', c)"
   ]
  },
  {
   "cell_type": "code",
   "execution_count": 9,
   "metadata": {
    "slideshow": {
     "slide_type": "fragment"
    }
   },
   "outputs": [
    {
     "name": "stdout",
     "output_type": "stream",
     "text": [
      "Valor de c:  3\n"
     ]
    }
   ],
   "source": [
    "a = 5\n",
    "b = 5\n",
    "c = 0\n",
    "\n",
    "if a != b:\n",
    "    print('a é diferente de b')\n",
    "    if c + 6 == a:\n",
    "        print('c mais seis é igual a a')\n",
    "        c += 2\n",
    "else:\n",
    "    c +=3\n",
    "print('Valor de c: ', c)"
   ]
  },
  {
   "cell_type": "markdown",
   "metadata": {
    "slideshow": {
     "slide_type": "slide"
    }
   },
   "source": [
    "## Desvio Condicional Encadeado\n",
    "Um desvio condicional encadeado é uma sequência de testes de seleção, os quais serão executados ou não de acordo com o resultado das condições e de acordo com o encadeamento dos testes.\n",
    "\n",
    "Existem casos em que é necessário estabelecer algumas verificações lógicas de condições definidas sucessivamente. A ideia aqui apresentada sugere a possibilidade de usar uma condição dentro de outra condição, o que leva a uma estrutura de decisão encadeada ou aninhada."
   ]
  },
  {
   "cell_type": "markdown",
   "metadata": {
    "slideshow": {
     "slide_type": "subslide"
    }
   },
   "source": [
    "```python\n",
    "if (condição_1):\n",
    "    instruções condição_1 verdadeira\n",
    "elif (condição_2):\n",
    "    instruções condição_2 verdadeira\n",
    "elif (condição_3):\n",
    "    instruções condição_3 verdadeira\n",
    "else:\n",
    "    instrução condições falsas\n",
    "instruções independentemente das condições serem verdadeiras ou não\n",
    "```"
   ]
  },
  {
   "cell_type": "code",
   "execution_count": 10,
   "metadata": {
    "slideshow": {
     "slide_type": "subslide"
    }
   },
   "outputs": [
    {
     "name": "stdout",
     "output_type": "stream",
     "text": [
      "informe valor de a: \n",
      "4\n",
      "13\n"
     ]
    }
   ],
   "source": [
    "c = 0\n",
    "a = int(input(\"informe valor de a: \\n\"))\n",
    "\n",
    "if a==1:\n",
    "    c = 10\n",
    "elif a==2:\n",
    "    c = 11\n",
    "elif a==3:\n",
    "    c = 12\n",
    "elif a==4:\n",
    "    c = 13\n",
    "elif a==5:\n",
    "    c = 14\n",
    "else:\n",
    "    c = 20\n",
    "print(c)"
   ]
  },
  {
   "cell_type": "markdown",
   "metadata": {
    "slideshow": {
     "slide_type": "slide"
    }
   },
   "source": [
    "## Atividade\n",
    "\n",
    "1. Designe uma variável `x` com o valor $8$\n",
    "2. Designe uma variável `y` com o valor $15$\n",
    "3. Crie 2 desvios condicionais:\n",
    "    * O primeiro deve imprimir \"Ao menos uma das condições foi satisfeita\" se `x` maior que $3$ **ou** `y` é número par\n",
    "    * O segundo deve imprimir \"Nenhuma condição foi satisfeita\" se `x` menor ou igual a $3$ **e** `y` é número ímpar\n",
    "\n",
    "\n",
    "Observação: use o módulo `%` para identificar número *ímpar* e *par*"
   ]
  },
  {
   "cell_type": "code",
   "execution_count": null,
   "metadata": {
    "slideshow": {
     "slide_type": "fragment"
    }
   },
   "outputs": [],
   "source": [
    "###"
   ]
  },
  {
   "cell_type": "markdown",
   "metadata": {
    "slideshow": {
     "slide_type": "subslide"
    }
   },
   "source": [
    "Resolva a equação do 2° Grau a seguir, realizando a entrada dos valores de (a, b e c) pelo teclado.\n",
    "\n",
    "A solução real da equação é dada por $ax^2 + bx + c = 0$, fórmula de Baskara.\n",
    "\n",
    "Exemplo:\n",
    "\n",
    "$a=1$, $b=3$ e $c=2$\n",
    "\n",
    "$ \\Delta = b^2 - 4ac $, com $a \\neq 0$\n",
    "\n",
    "Se $ \\Delta < 0$ então mostrar \"não há solução real\"\n",
    "\n",
    "Senão, calcular e apresentar os resultados.\n",
    "\n",
    "$ x_{1}=\\frac{-b-\\sqrt{\\Delta}}{2a} $\n",
    "<br><br>\n",
    " $ x_{2} = \\frac{-b +\\sqrt{\\Delta}}{2a} $"
   ]
  },
  {
   "cell_type": "code",
   "execution_count": null,
   "metadata": {
    "slideshow": {
     "slide_type": "fragment"
    }
   },
   "outputs": [],
   "source": [
    "###"
   ]
  },
  {
   "cell_type": "markdown",
   "metadata": {},
   "source": [
    "# Estruturas de Repetição (`FOR` e `WHILE`)\n",
    "\n",
    "**Objetivos**: Apresentar as estruturas de repetição (`FOR` e `WHILE`)"
   ]
  },
  {
   "cell_type": "markdown",
   "metadata": {},
   "source": [
    "O conceito de  **repetição** (looping ou laço) é utilizado quando se deseja repetir um certo trecho de instruções por um número de vezes.\n",
    "\n",
    "As estruturas de repetição em Python se dividem em `WHILE` (enquanto) e `FOR` (para). Para determinamos qual é a estrutura mais adequada para determinado programa, devemos saber qual o número de vezes que o trecho do programa vai ser executado (laços contados) ou a condição para que ele aconteça (laços condicionais)."
   ]
  },
  {
   "cell_type": "markdown",
   "metadata": {},
   "source": [
    "## Cálculo da média aritmética"
   ]
  },
  {
   "cell_type": "code",
   "execution_count": null,
   "metadata": {},
   "outputs": [
    {
     "name": "stdout",
     "output_type": "stream",
     "text": [
      "Informe AV1: \n",
      "7\n",
      "Informe AV2: \n",
      "6\n",
      "Média do aluno foi de:  6.5\n"
     ]
    }
   ],
   "source": [
    "av1 = float(input(\"Informe AV1: \\n\"))\n",
    "assert 0<= av1 <= 10, \"A nota AV1 deve ser entre 0 e 10\"\n",
    "\n",
    "av2 = float(input(\"Informe AV2: \\n\"))\n",
    "assert 0<= av2 <= 10, \"A nota AV2 deve ser entre 0 e 10\"\n",
    "\n",
    "media = (av1 + av2) / 2\n",
    "\n",
    "print(\"Média do aluno foi de: \", media)"
   ]
  },
  {
   "cell_type": "markdown",
   "metadata": {},
   "source": [
    "## `WHILE` (enquanto)\n",
    "\n",
    "Consiste de uma estrutura de controle do fluxo de execução que permite repetir diversas vezes um mesmo trecho do programa, porém, sempre verificando antes de cada execução se é permitido executar o trecho do programa ou não.\n",
    "\n",
    "A estrutura de repetição `WHILE` a condição de repetição é verificada antes de entrar no laço de repetição, isto é, se o resultado for verdadeiro, o bloco de instrução será executado. Enquanto o valor da condição for verdadeiro, as ações dos comandos são executadas. No momento em que a condição se torna falsa, o processamento da rotina é desviado para fora do laço. Se a condição for falsa logo de início, os comandos não são executados nenhuma vez."
   ]
  },
  {
   "cell_type": "markdown",
   "metadata": {},
   "source": [
    "```python\n",
    "while (<condição>):\n",
    "    <instruções a serem executadas enquanto condição verdadeira>\n",
    "```"
   ]
  },
  {
   "cell_type": "code",
   "execution_count": null,
   "metadata": {},
   "outputs": [
    {
     "name": "stdout",
     "output_type": "stream",
     "text": [
      "Informe AV1: \n",
      "7\n",
      "Informe AV2: \n",
      "6\n",
      "Média do aluno foi de: \n",
      " 6.5\n",
      "Digite `S` caso deseje calcular nova média ou outro valor caso contrárioN\n",
      "Fim do Programa\n"
     ]
    }
   ],
   "source": [
    "repetir = \"S\"\n",
    "while repetir==\"S\":\n",
    "    av1 = float(input(\"Informe AV1: \\n\"))\n",
    "    assert 0<= av1 <= 10, \"A nota AV1 deve ser entre 0 e 10\"\n",
    "    \n",
    "    av2 = float(input(\"Informe AV2: \\n\"))\n",
    "    assert 0<= av2 <= 10, \"A nota AV2 deve ser entre 0 e 10\"\n",
    "    \n",
    "    media = (av1 + av2) / 2\n",
    "    print(\"Média do aluno foi de: \\n\", media)\n",
    "    \n",
    "    repetir = input(\"Digite `S` caso deseje calcular nova média ou outro valor caso contrário\")\n",
    "print(\"Fim do Programa\")"
   ]
  },
  {
   "cell_type": "code",
   "execution_count": null,
   "metadata": {},
   "outputs": [
    {
     "name": "stdout",
     "output_type": "stream",
     "text": [
      "counter: 0\n",
      "counter: 1\n",
      "counter: 2\n",
      "counter: 3\n",
      "counter: 4\n",
      "counter: 5\n",
      "counter: 6\n",
      "counter: 7\n",
      "counter: 8\n",
      "counter: 9\n",
      "counter: 10\n"
     ]
    }
   ],
   "source": [
    "counter = 0\n",
    "while counter < 10:\n",
    "    print(f\"counter: {counter}\")\n",
    "    counter += 1\n",
    "    \n",
    "print(f\"counter: {counter}\")"
   ]
  },
  {
   "cell_type": "markdown",
   "metadata": {},
   "source": [
    "## `FOR` (para)\n",
    "\n",
    "Os laços que possuem um número finito de execuções poderão ser processados por meio de estrutura de laço FOR. Com a estrutura FOR podemos executar um determinado conjunto de instruções certo número de vezes. Além disso, este tipo de estrutura prevê uma condição e limites fixos.\n",
    "\n",
    "A estrutura for é utilizada quando precisamos repetir um conjunto de comandos um número pré-definido de vezes."
   ]
  },
  {
   "cell_type": "markdown",
   "metadata": {},
   "source": [
    "```python\n",
    "for <variável> in range(<valor inicial>, <valor limite - menor que>, <incremento a cada etapa>):\n",
    "    <instruções a serem repetidas>\n",
    "```"
   ]
  },
  {
   "cell_type": "markdown",
   "metadata": {},
   "source": [
    "```python\n",
    "for <variável> in <iterável>:\n",
    "    <instruções a serem repetidas>\n",
    "```"
   ]
  },
  {
   "cell_type": "code",
   "execution_count": null,
   "metadata": {},
   "outputs": [
    {
     "data": {
      "text/plain": [
       "[2, 5, 8, 11, 14]"
      ]
     },
     "metadata": {},
     "output_type": "display_data"
    }
   ],
   "source": [
    "list(range(2, 17, 3))"
   ]
  },
  {
   "cell_type": "code",
   "execution_count": null,
   "metadata": {},
   "outputs": [
    {
     "data": {
      "text/plain": [
       "[17, 14, 11, 8, 5]"
      ]
     },
     "metadata": {},
     "output_type": "display_data"
    }
   ],
   "source": [
    "list(range(17, 2, -3))"
   ]
  },
  {
   "cell_type": "code",
   "execution_count": null,
   "metadata": {},
   "outputs": [
    {
     "name": "stdout",
     "output_type": "stream",
     "text": [
      "2\n",
      "5\n",
      "8\n",
      "11\n",
      "14\n"
     ]
    }
   ],
   "source": [
    "for i in range(2, 17, 3):\n",
    "    print(i)"
   ]
  },
  {
   "cell_type": "code",
   "execution_count": null,
   "metadata": {},
   "outputs": [
    {
     "name": "stdout",
     "output_type": "stream",
     "text": [
      "coisa: mouse\n",
      "coisa: copo\n",
      "coisa: teclado\n"
     ]
    }
   ],
   "source": [
    "for coisa in [\"mouse\", \"copo\", \"teclado\"]:\n",
    "    print(f\"coisa: {coisa}\")"
   ]
  },
  {
   "cell_type": "code",
   "execution_count": null,
   "metadata": {},
   "outputs": [
    {
     "name": "stdout",
     "output_type": "stream",
     "text": [
      "Quantidade de alunos: \n",
      "1\n",
      "Aluno 1\n",
      "Informe AV1: \n",
      "7\n",
      "Informe AV2: \n",
      "6\n",
      "Média do aluno 1 foi de:  6.5\n",
      "Fim do Programa\n"
     ]
    }
   ],
   "source": [
    "qtde = int(input(\"Quantidade de alunos: \\n\"))\n",
    "for x in range(qtde):\n",
    "    print(f\"Aluno {x + 1}\")\n",
    "    av1 = float(input(\"Informe AV1: \\n\"))\n",
    "    assert 0<= av1 <= 10, \"A nota AV1 deve ser entre 0 e 10\"\n",
    "    \n",
    "    av2 = float(input(\"Informe AV2: \\n\"))\n",
    "    assert 0<= av2 <= 10, \"A nota AV1 deve ser entre 0 e 10\"\n",
    "    \n",
    "    media = (av1 + av2) / 2\n",
    "    print(f\"Média do aluno {x + 1} foi de: \", media)\n",
    "print(\"Fim do Programa\")"
   ]
  },
  {
   "cell_type": "markdown",
   "metadata": {},
   "source": [
    "## Atividade `WHILE`\n",
    "\n",
    "1. Defina um número aleatório entre $0$ e $10$ com a função `randint()` do modulo `random` da biblioteca padrao de Python e designe-o para a variável `numero_aleatorio`)\n",
    "2. Crie uma variável `palpites_restantes` igual a $3$\n",
    "3. Use a estrutura enquanto (`WHILE`) para que o usuário continue adivinhando o valor da varíavel `numero_aleatorio` enquanto `palpites_restantes` é maior que $0$\n",
    "4. Pergunte ao usuário o seu palpite sobre o valor da variável `numero_aleatorio`\n",
    "5. Se ele acertar o palpite quebre o `while` com `break` e imprima \"Você acertou!\"\n",
    "6. Se ele errar reduza `palpites_restantes` em $1$\n",
    "7. Use um desvio condicional `else` depois do `while` que imprima \"Você perdeu todas suas chances\""
   ]
  },
  {
   "cell_type": "code",
   "execution_count": null,
   "metadata": {},
   "outputs": [],
   "source": [
    "from random import randint\n",
    "\n",
    "numero_aleatorio = randint(0, 10)\n",
    "palpites_restantes = $$\n",
    "\n",
    "while(palpites_restantes > $$):\n",
    "    palpite = int(input(\"Qual é o seu palpite? Número entre 0 e 10 \\n\"))\n",
    "    assert 0 <= palpite <= 10, \"Coloque um número inteiro entre 0 e 10\"\n",
    "    \n",
    "    if numero_aleatorio == palpite:\n",
    "        print(\"Você acertou\")\n",
    "        break \n",
    "    palpites_restantes -= $$\n",
    "    print(\"Você errou! Tente de novo\")\n",
    "    \n",
    "    if (palpites_restantes == $$):\n",
    "        print(\"Você perdeu todas suas chances\")\n",
    "print(numero_aleatorio)"
   ]
  },
  {
   "cell_type": "markdown",
   "metadata": {},
   "source": [
    "Construir um programa que calcule a média aritmética de vários valores inteiros positivos.\n",
    "\n",
    "O final da leitura acontecerá quando for lido um valor negativo.\n",
    "\n",
    "Ao final, deverá ser apresentado:\n",
    "1. Quantidade de valores digitados,\n",
    "2. Total da soma\n",
    "3. Média aritmética dos valores"
   ]
  },
  {
   "cell_type": "code",
   "execution_count": null,
   "metadata": {},
   "outputs": [],
   "source": [
    "valor = 0\n",
    "soma = 0\n",
    "contador = 0\n",
    "\n",
    "while valor >= 0:\n",
    "    valor = $$\n",
    "    if valor >= 0:\n",
    "        $$\n",
    "        $$\n",
    "\n",
    "print('')\n",
    "print('Soma dos valores..........:', soma)\n",
    "print('Total de valores digitados:', contador)\n",
    "print('Média dos valores.........:', $$)"
   ]
  },
  {
   "cell_type": "markdown",
   "metadata": {},
   "source": [
    "## Atividade `FOR`\n",
    "\n",
    "Filtre o caractere `a` e `á` da string abaixo\n",
    "\n",
    "```python\n",
    "frase = \"Mais vale um pássaro...\"\n",
    "```\n",
    "\n",
    "1. Faça um `for` para cada caractere da frase\n",
    "2. Se o caractere for `a` ou `á`, imprima `X` ao invés do caractere\n",
    "3. Ou (`else`), imprima o caractere original da frase"
   ]
  },
  {
   "cell_type": "code",
   "execution_count": null,
   "metadata": {},
   "outputs": [],
   "source": [
    "frase = \"Mais vale um pássaro...\"\n",
    "\n",
    "for $$$ in $$$:\n",
    "    if $$ == \"a\" or $$ == \"á\":\n",
    "        print(\"X\")\n",
    "    else:\n",
    "        print($$)"
   ]
  },
  {
   "cell_type": "markdown",
   "metadata": {},
   "source": [
    "## Desafio\n",
    "\n",
    "Desenvolva um programa que receba um número inteiro `> 0` e calcule todas as tabuadas a partir do `1` até o número informado. Pode ser utilizado o laço `FOR` ou `WHILE`.\n",
    "\n",
    "Se for inserido o número 3, devem ser apresentadas três tabuadas, como mostrado na figura:\n",
    "\n",
    "Obs.: As tabuadas podem ser exibidas uma após a outra.\n",
    "\n",
    "\n",
    "![tabuada_exemplo](images/tabuada.png)"
   ]
  },
  {
   "cell_type": "code",
   "execution_count": null,
   "metadata": {},
   "outputs": [],
   "source": [
    "tabuada = int(input(\"Informe o valor para gerar a(s) tabuada(s): \"))"
   ]
  }
 ],
 "metadata": {
  "celltoolbar": "Slideshow",
  "kernelspec": {
   "display_name": "Python [conda env:ciencia-de-dados]",
   "language": "python",
   "name": "conda-env-ciencia-de-dados-py"
  },
  "language_info": {
   "codemirror_mode": {
    "name": "ipython",
    "version": 3
   },
   "file_extension": ".py",
   "mimetype": "text/x-python",
   "name": "python",
   "nbconvert_exporter": "python",
   "pygments_lexer": "ipython3",
   "version": "3.9.6"
  },
  "rise": {
   "autolaunch": true,
   "enable_chalkboard": true,
   "progress": true,
   "scroll": true,
   "slideNumber": true,
   "theme": "black"
  }
 },
 "nbformat": 4,
 "nbformat_minor": 4
}
