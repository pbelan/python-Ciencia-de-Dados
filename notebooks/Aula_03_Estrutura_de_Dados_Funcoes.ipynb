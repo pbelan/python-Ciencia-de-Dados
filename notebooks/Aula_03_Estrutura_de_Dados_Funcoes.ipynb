{
 "cells": [
  {
   "attachments": {},
   "cell_type": "markdown",
   "metadata": {
    "slideshow": {
     "slide_type": "skip"
    }
   },
   "source": [
    "[![Binder](https://mybinder.org/badge_logo.svg)](https://mybinder.org/v2/gh/pbelan/python-Ciencia-de-Dados/main?filepath=notebooks%2FAula_03_Estrutura_de_Dados_Funcoes.ipynb)\n",
    "<br>\n",
    "[![Open In Colab](https://colab.research.google.com/assets/colab-badge.svg)](https://colab.research.google.com/github/pbelan/python-Ciencia-de-Dados/blob/main/notebooks/Aula_03_Estrutura_de_Dados_Funcoes.ipynb)"
   ]
  },
  {
   "cell_type": "markdown",
   "metadata": {
    "slideshow": {
     "slide_type": "slide"
    }
   },
   "source": [
    "# Estruturas de Dados (`list` e `dict`)\n",
    "\n",
    "**Objetivos**: Apresentar as estruturas de dados (`list` e `dict`)"
   ]
  },
  {
   "cell_type": "markdown",
   "metadata": {
    "slideshow": {
     "slide_type": "fragment"
    }
   },
   "source": [
    "Python trabalha com diferentes estrutura de dados. As duas principais estruturas de dados que Python trabalha são:\n",
    "* lista (`list`)\n",
    "* dicionário (`dict`)"
   ]
  },
  {
   "cell_type": "markdown",
   "metadata": {
    "slideshow": {
     "slide_type": "slide"
    }
   },
   "source": [
    "## Lista (`list`)\n",
    "\n",
    "Lista, também como conhecido como *list*, é uma estrutura de dados que possui nenhum, um ou mais itens, que estão ordenados. Os itens são conhecidos também como elementos. Ela é flexível, ou seja, podemos adicionar novos itens na lista, podemos alterar itens existentes, podemos remover itens da lista, tudo isto de forma dinâmica.\n",
    "\n",
    "Em Python, uma lista é representada por uma sequencia de itens, separados por vírgula e dentro de colchetes `[]`. Uma lista vazia é representada por colchetes sem nenhuma informação presente entre os colchetes."
   ]
  },
  {
   "cell_type": "code",
   "execution_count": 1,
   "metadata": {
    "slideshow": {
     "slide_type": "subslide"
    }
   },
   "outputs": [],
   "source": [
    "lista_vazia = []\n",
    "lista_campus = [\"Vergueiro\", \"Memorial\", \"Vila Prudente\", \"Santo Amaro\", \"Vila Maria\"]"
   ]
  },
  {
   "cell_type": "markdown",
   "metadata": {
    "slideshow": {
     "slide_type": "subslide"
    }
   },
   "source": [
    "### Tipos de variáveis de uma lista\n",
    "\n",
    "A lista pode acomodar qualquer tipo de variável"
   ]
  },
  {
   "cell_type": "code",
   "execution_count": 2,
   "metadata": {
    "slideshow": {
     "slide_type": "fragment"
    }
   },
   "outputs": [],
   "source": [
    "lista_mista = [\"Presidente\", 3, 34.2, None, True]"
   ]
  },
  {
   "cell_type": "markdown",
   "metadata": {
    "slideshow": {
     "slide_type": "subslide"
    }
   },
   "source": [
    "### Acessar elementos de uma lista\n",
    "\n",
    "Para acessar elementos de uma lista use `lista[<numero do elemento>]`.\n",
    "\n",
    "*Lembre-se que Python é indexado em zero $0$*"
   ]
  },
  {
   "cell_type": "code",
   "execution_count": 3,
   "metadata": {
    "slideshow": {
     "slide_type": "fragment"
    }
   },
   "outputs": [
    {
     "name": "stdout",
     "output_type": "stream",
     "text": [
      "Presidente\n",
      "Vila Prudente\n"
     ]
    }
   ],
   "source": [
    "print(lista_mista[0]) #primeiro elemento\n",
    "print(lista_campus[2]) #terceiro elemento"
   ]
  },
  {
   "cell_type": "markdown",
   "metadata": {
    "slideshow": {
     "slide_type": "subslide"
    }
   },
   "source": [
    "### Listas e `FOR` loops\n",
    "\n",
    "Listas podem ser iteradas com `for` loops"
   ]
  },
  {
   "cell_type": "code",
   "execution_count": 4,
   "metadata": {
    "slideshow": {
     "slide_type": "fragment"
    }
   },
   "outputs": [
    {
     "name": "stdout",
     "output_type": "stream",
     "text": [
      "Vergueiro\n",
      "Memorial\n",
      "Vila Prudente\n",
      "Santo Amaro\n",
      "Vila Maria\n",
      "<class 'str'>\n",
      "<class 'int'>\n",
      "<class 'float'>\n",
      "<class 'NoneType'>\n",
      "<class 'bool'>\n"
     ]
    }
   ],
   "source": [
    "for campus in lista_campus:\n",
    "    print(campus)\n",
    "for i in lista_mista:\n",
    "    print(type(i))"
   ]
  },
  {
   "cell_type": "markdown",
   "metadata": {
    "slideshow": {
     "slide_type": "subslide"
    }
   },
   "source": [
    "### Operações com lista\n",
    "\n",
    "* Adição e remoção: `append` e `remove`\n",
    "* Contar o número de items: `count`\n",
    "* Quantidade de itens: `len`\n",
    "* Arrumar: `sort` e `reverse` (para ordenar inversamente é necessário estar ordenada crescente)"
   ]
  },
  {
   "cell_type": "code",
   "execution_count": 5,
   "metadata": {
    "slideshow": {
     "slide_type": "fragment"
    }
   },
   "outputs": [
    {
     "name": "stdout",
     "output_type": "stream",
     "text": [
      "2\n",
      "0\n",
      "['Memorial', 'Memorial', 'Santo Amaro', 'Vila Maria', 'Vila Prudente']\n",
      "5\n"
     ]
    }
   ],
   "source": [
    "lista_campus = [\"Vergueiro\", \"Memorial\", \"Vila Prudente\", \"Santo Amaro\", \"Vila Maria\"]\n",
    "lista_campus.append(\"Memorial\")\n",
    "lista_campus.remove(\"Vergueiro\")\n",
    "print(lista_campus.count(\"Memorial\"))\n",
    "print(lista_campus.count(\"Vergueiro\"))\n",
    "\n",
    "lista_campus.sort()\n",
    "print(lista_campus)\n",
    "print(len(lista_campus))"
   ]
  },
  {
   "cell_type": "markdown",
   "metadata": {
    "slideshow": {
     "slide_type": "subslide"
    }
   },
   "source": [
    "### Mais operações com listas\n",
    "* Adição de listas: `list_1` + `list_2` ou `list_1.extend(list_2)`"
   ]
  },
  {
   "cell_type": "code",
   "execution_count": 6,
   "metadata": {
    "slideshow": {
     "slide_type": "fragment"
    }
   },
   "outputs": [
    {
     "name": "stdout",
     "output_type": "stream",
     "text": [
      "['Vergueiro', 'Memorial', 'Vila Prudente', 'Santo Amaro', 'Vila Maria', 1, 2, 3, 4, 5]\n",
      "['Vergueiro', 'Memorial', 'Vila Prudente', 'Santo Amaro', 'Vila Maria', 1, 2, 3, 4, 5]\n"
     ]
    }
   ],
   "source": [
    "lista_campus = [\"Vergueiro\", \"Memorial\", \"Vila Prudente\", \"Santo Amaro\", \"Vila Maria\"]\n",
    "lista_numeros = [1, 2, 3, 4, 5]\n",
    "\n",
    "print(lista_campus + lista_numeros)\n",
    "lista_campus.extend(lista_numeros)\n",
    "print(lista_campus)"
   ]
  },
  {
   "cell_type": "markdown",
   "metadata": {
    "slideshow": {
     "slide_type": "subslide"
    }
   },
   "source": [
    "### Pertencimento a lista\n",
    "\n",
    "Para verificar se um elemento pertence a lista use o operador `in` e para verificar se não pertence use o `not in`"
   ]
  },
  {
   "cell_type": "code",
   "execution_count": 7,
   "metadata": {
    "scrolled": true,
    "slideshow": {
     "slide_type": "fragment"
    }
   },
   "outputs": [
    {
     "name": "stdout",
     "output_type": "stream",
     "text": [
      "True\n",
      "False\n"
     ]
    }
   ],
   "source": [
    "lista_numeros = [1, 2, 3, 4, 5]\n",
    "\n",
    "print(3 in lista_numeros)\n",
    "print(4 not in lista_numeros)"
   ]
  },
  {
   "cell_type": "markdown",
   "metadata": {
    "slideshow": {
     "slide_type": "subslide"
    }
   },
   "source": [
    "### Fatiar (`slice`) uma lista\n",
    "\n",
    "Para fatiar (*slice*) uma lista use o `:` e o índice (indexado em zero)\n",
    "\n",
    "```python\n",
    "lista[1:3]\n",
    "```\n",
    "\n",
    "*Cuidado que o intervalo final é não inclusivo*"
   ]
  },
  {
   "cell_type": "code",
   "execution_count": 8,
   "metadata": {
    "scrolled": true,
    "slideshow": {
     "slide_type": "fragment"
    }
   },
   "outputs": [
    {
     "name": "stdout",
     "output_type": "stream",
     "text": [
      "['Memorial', 'Vila Prudente']\n",
      "['Santo Amaro', 'Vila Maria']\n",
      "['Vergueiro', 'Memorial', 'Vila Prudente']\n",
      "['Vila Prudente', 'Santo Amaro', 'Vila Maria']\n"
     ]
    }
   ],
   "source": [
    "lista_campus = [\"Vergueiro\",\n",
    "                \"Memorial\",\n",
    "                \"Vila Prudente\",\n",
    "                \"Santo Amaro\",\n",
    "                \"Vila Maria\"]\n",
    "\n",
    "print(lista_campus[1:3])  # lista_campus[1] e lista_campus[2]\n",
    "print(lista_campus[3:])\n",
    "print(lista_campus[:3])\n",
    "print(lista_campus[2:])"
   ]
  },
  {
   "cell_type": "markdown",
   "metadata": {
    "slideshow": {
     "slide_type": "subslide"
    }
   },
   "source": [
    "## Máximos, Mínimos e Soma de uma lista\n",
    "Podemos utilizar as funções `max()` e `min()` para recuperar os maiores e menores valores, respectivamente, além da função `sum()` para totalizar uma lista."
   ]
  },
  {
   "cell_type": "code",
   "execution_count": 9,
   "metadata": {
    "slideshow": {
     "slide_type": "fragment"
    }
   },
   "outputs": [
    {
     "name": "stdout",
     "output_type": "stream",
     "text": [
      "Menor valor: 1\n",
      "Maior valor: 10\n",
      "soma: 41\n"
     ]
    }
   ],
   "source": [
    "lista = [1, 2, 9, 4, 8, 7, 10]\n",
    "\n",
    "print('Menor valor:', min(lista))\n",
    "print('Maior valor:', max(lista))\n",
    "print('soma:', sum(lista))"
   ]
  },
  {
   "cell_type": "markdown",
   "metadata": {
    "slideshow": {
     "slide_type": "slide"
    }
   },
   "source": [
    "### Compreensões de Lista (*List Comprehensions*)\n",
    "\n",
    "Python dá apoio a criação de listas a partir de uma compreensão (_comprehension_). Elas são consideradas mais pythônicas. \n",
    "\n",
    "A síntaxe é:\n",
    "\n",
    "```python\n",
    "nova_lista = [expressão for membro in iterável]\n",
    "```"
   ]
  },
  {
   "cell_type": "code",
   "execution_count": 10,
   "metadata": {
    "slideshow": {
     "slide_type": "subslide"
    }
   },
   "outputs": [
    {
     "data": {
      "text/plain": [
       "[1, 4, 9, 16, 25, 36, 49, 64, 81]"
      ]
     },
     "execution_count": 10,
     "metadata": {},
     "output_type": "execute_result"
    }
   ],
   "source": [
    "[x ** 2 for x in range(1,10)]"
   ]
  },
  {
   "cell_type": "markdown",
   "metadata": {
    "slideshow": {
     "slide_type": "subslide"
    }
   },
   "source": [
    "#### Compreensão de Lista com Lógica Condicional\n",
    "\n",
    "Podemos inserir lógica condicional `if` em compreensões de lista:\n",
    "\n",
    "A sintaxe é :\n",
    "```python\n",
    "nova_lista = [expressão for membro in iterável if condição]\n",
    "```"
   ]
  },
  {
   "cell_type": "code",
   "execution_count": 11,
   "metadata": {
    "slideshow": {
     "slide_type": "fragment"
    }
   },
   "outputs": [
    {
     "data": {
      "text/plain": [
       "['u', 'i', 'o', 'e', 'é']"
      ]
     },
     "execution_count": 11,
     "metadata": {},
     "output_type": "execute_result"
    }
   ],
   "source": [
    "frase = \"A uninove é 10\"\n",
    "vogais = [i for i in frase if i in 'aeéiíoóu'] # i for i é a identidade\n",
    "vogais"
   ]
  },
  {
   "cell_type": "code",
   "execution_count": 12,
   "metadata": {
    "slideshow": {
     "slide_type": "fragment"
    }
   },
   "outputs": [
    {
     "data": {
      "text/plain": [
       "[1.25, 0, 10.22, 3.78, 0, 1.16]"
      ]
     },
     "execution_count": 12,
     "metadata": {},
     "output_type": "execute_result"
    }
   ],
   "source": [
    "precos_originais = [1.25, -9.45, 10.22, 3.78, -5.92, 1.16]\n",
    "precos = [i if i > 0 else 0 for i in precos_originais]\n",
    "precos"
   ]
  },
  {
   "cell_type": "markdown",
   "metadata": {
    "slideshow": {
     "slide_type": "slide"
    }
   },
   "source": [
    "## Dicionários (`dict`)\n",
    "\n",
    "Dicionário, também como conhecido como `dict`, é uma estrutura de dados que possui nenhum, um ou mais itens, que não estão ordenados porém estão **indexados**. Os itens são conhecidos também como elementos. Ela é flexível, ou seja, podemos adicionar novos itens no dicionário, podemos alterar itens existentes, podemos remover itens do dicionário, tudo isto de forma dinâmica.\n",
    "\n",
    "O dicionário é composto por uma tupla CHAVE (`key`) e VALOR (`value`). O dicionário é indexado pela CHAVE.\n",
    "\n",
    "```python\n",
    "<nome do dicionario> = {<chave_01>: <valor_01>, <chave_02>: <valor_02>, <chave_03>: <valor_03>}\n",
    "```"
   ]
  },
  {
   "cell_type": "code",
   "execution_count": 13,
   "metadata": {
    "slideshow": {
     "slide_type": "subslide"
    }
   },
   "outputs": [],
   "source": [
    "dicionario = {'RA': 123,\n",
    "              'nome': \"Alexandre\",\n",
    "              'idade': 23,\n",
    "              'AV1': 7,\n",
    "              'AV2': 9\n",
    "             }"
   ]
  },
  {
   "cell_type": "markdown",
   "metadata": {
    "slideshow": {
     "slide_type": "subslide"
    }
   },
   "source": [
    "### Operações com dicionários\n",
    "* Acessar valor de uma chave: `dict[key]`\n",
    "* Alterar o valor de uma chave: `dict[key] = novo_valor`\n",
    "* Para iterar todas as chaves e valores: `for key, value in dict.items()`\n",
    "* Verificar pertencimento: `if chave_desejada in dict:` ou `if valor_desejado in dict.items()`"
   ]
  },
  {
   "cell_type": "code",
   "execution_count": 14,
   "metadata": {
    "slideshow": {
     "slide_type": "fragment"
    }
   },
   "outputs": [
    {
     "name": "stdout",
     "output_type": "stream",
     "text": [
      "dicionario[RA]:  123\n",
      "dicionario[RA] - após dicionario[RA] = 456:  456\n"
     ]
    }
   ],
   "source": [
    "print(\"dicionario[RA]: \", dicionario['RA'])\n",
    "\n",
    "dicionario['RA'] = 456\n",
    "\n",
    "print(\"dicionario[RA] - após dicionario[RA] = 456: \", dicionario[\"RA\"])"
   ]
  },
  {
   "cell_type": "code",
   "execution_count": 15,
   "metadata": {
    "scrolled": true,
    "slideshow": {
     "slide_type": "subslide"
    }
   },
   "outputs": [
    {
     "name": "stdout",
     "output_type": "stream",
     "text": [
      "RA\n",
      "nome\n",
      "idade\n",
      "AV1\n",
      "AV2\n"
     ]
    }
   ],
   "source": [
    "for i in dicionario:\n",
    "    print(i)"
   ]
  },
  {
   "cell_type": "code",
   "execution_count": 16,
   "metadata": {
    "slideshow": {
     "slide_type": "fragment"
    }
   },
   "outputs": [
    {
     "name": "stdout",
     "output_type": "stream",
     "text": [
      "RA 456\n",
      "nome Alexandre\n",
      "idade 23\n",
      "AV1 7\n",
      "AV2 9\n"
     ]
    }
   ],
   "source": [
    "for key, value in dicionario.items():\n",
    "    print(key, value)"
   ]
  },
  {
   "cell_type": "markdown",
   "metadata": {
    "slideshow": {
     "slide_type": "slide"
    }
   },
   "source": [
    "## Atividade Lista\n",
    "\n",
    "1. Crie uma lista com todos os número primos até $100$\n",
    "2. Crie uma lista vazia chamada `log_numeros_primos`\n",
    "3. Crie um `for` loop para cada item da lista de números primos e peça para calcular o log do item e adicioná-lo à lista `log_numeros_primos`\n",
    "4. Imprima todos os items do décimo até o vigésimo da lista `log_numeros_primos` (*cuidado com indexação não-inclusiva*)"
   ]
  },
  {
   "cell_type": "code",
   "execution_count": null,
   "metadata": {
    "slideshow": {
     "slide_type": "fragment"
    }
   },
   "outputs": [],
   "source": [
    "from math import log\n",
    "\n",
    "numeros_primos = [2, 3, 5, 7, 11, 13, 17, 19, 23, 29, 31, 37, 41, 43, 47, 53, 59, 61, 67, 71, 73, 79, 83, 89, 97]\n",
    "\n",
    "for $$ in $$:\n",
    "    $$$$\n",
    "\n",
    "print()"
   ]
  },
  {
   "cell_type": "markdown",
   "metadata": {
    "slideshow": {
     "slide_type": "slide"
    }
   },
   "source": [
    "## Atividade Dicionário\n",
    "\n",
    "Crie um dicionário dos primeiros $100$ números primos com a chave sendo o número primo e valor a raíz quadrada do número primo.\n",
    "\n",
    "Observação: use `dict[key] = novo_valor`"
   ]
  },
  {
   "cell_type": "code",
   "execution_count": null,
   "metadata": {
    "slideshow": {
     "slide_type": "fragment"
    }
   },
   "outputs": [],
   "source": [
    "from math import sqrt\n",
    "\n",
    "numeros_primos = [2, 3, 5, 7, 11, 13, 17, 19, 23, 29, 31, 37, 41, 43, 47, 53, 59, 61, 67, 71, 73, 79, 83, 89, 97]\n",
    "\n",
    "primos_raiz = {}\n",
    "\n",
    "for $$ in $$:\n",
    "    $$$$"
   ]
  },
  {
   "cell_type": "markdown",
   "metadata": {
    "slideshow": {
     "slide_type": "subslide"
    }
   },
   "source": [
    "## Desafio\n",
    "Utilizando os conceitos sobre `list` e `dict`, desenvolva um algoritmo que apresente para os dados abaixo:\n",
    "* A Maior nota\n",
    "* A Menor nota\n",
    "* A Média das notas"
   ]
  },
  {
   "cell_type": "code",
   "execution_count": null,
   "metadata": {
    "slideshow": {
     "slide_type": "fragment"
    }
   },
   "outputs": [],
   "source": [
    "alunos = []\n",
    "alunos.append({'nome': 'Aluno 01', 'curso': 'Ciências da Computação', 'AV1':8 })\n",
    "alunos.append({'nome': 'Aluno 02', 'curso': 'Sistemas de Informação', 'AV1':7 })\n",
    "alunos.append({'nome': 'Aluno 03', 'curso': 'Sistemas de Informação', 'AV1':6 })\n",
    "alunos.append({'nome': 'Aluno 04', 'curso': 'Sistemas de Informação', 'AV1':6 })\n",
    "alunos.append({'nome': 'Aluno 05', 'curso': 'Sistemas de Informação', 'AV1':6 })\n",
    "alunos.append({'nome': 'Aluno 06', 'curso': 'Análise e Desenvolvimento de Sistemas', 'AV1':7 })\n",
    "alunos.append({'nome': 'Aluno 07', 'curso': 'Análise e Desenvolvimento de Sistemas', 'AV1':9 })\n",
    "alunos.append({'nome': 'Aluno 08', 'curso': 'Ciências da Computação', 'AV1':10 })\n",
    "alunos.append({'nome': 'Aluno 09', 'curso': 'Ciências da Computação', 'AV1':10 })\n",
    "alunos.append({'nome': 'Aluno 10', 'curso': 'Ciências da Computação', 'AV1':4 })\n",
    "alunos.append({'nome': 'Aluno 11', 'curso': 'Análise e Desenvolvimento de Sistemas', 'AV1':5 })\n",
    "alunos.append({'nome': 'Aluno 11', 'curso': 'Análise e Desenvolvimento de Sistemas', 'AV1':5 })\n",
    "alunos.append({'nome': 'Aluno 12', 'curso': 'Análise e Desenvolvimento de Sistemas', 'AV1':9 })\n",
    "alunos.append({'nome': 'Aluno 13', 'curso': 'Análise e Desenvolvimento de Sistemas', 'AV1':9 })\n",
    "alunos.append({'nome': 'Aluno 14', 'curso': 'Ciências da Computação', 'AV1': 7})\n",
    "alunos.append({'nome': 'Aluno 15', 'curso': 'Análise e Desenvolvimento de Sistemas', 'AV1':7})\n",
    "alunos.append({'nome': 'Aluno 16', 'curso': 'Ciências da Computação', 'AV1': 6})\n",
    "alunos.append({'nome': 'Aluno 17', 'curso': 'Análise e Desenvolvimento de Sistemas', 'AV1':8 })\n",
    "alunos.append({'nome': 'Aluno 18', 'curso': 'Ciências da Computação', 'AV1':4 })\n",
    "alunos.append({'nome': 'Aluno 19', 'curso': 'Sistemas de Informação', 'AV1':2 })\n",
    "alunos.append({'nome': 'Aluno 20', 'curso': 'Análise e Desenvolvimento de Sistemas', 'AV1':9 })\n",
    "\n",
    "media = 0\n",
    "notas = []\n",
    "\n",
    "            \n",
    "print('Notas Gerais')\n",
    "print('A MAIOR nota é.....:', $$$)\n",
    "print('A MENOR nota é.....:', $$$)\n",
    "print('A MÉDIA das notas é:', $$$)"
   ]
  },
  {
   "cell_type": "markdown",
   "metadata": {},
   "source": [
    "# Funções\n",
    "\n",
    "**Objetivos**: Apresentar as funções de Python"
   ]
  },
  {
   "cell_type": "markdown",
   "metadata": {},
   "source": [
    "Uma das técnicas de programação existentes consiste em quebrar um problema maior em vários problemas menores (ou sub-problemas). Desta forma cada sub-problema é solucionado e ao final teremos a solução de nosso problema maior. \n",
    "\n",
    "Em programação, para atendermos tal necessidade, existem funções e métodos. Funções seguem os princípios da programação procedural e e os métodos estão diretamente relacionados com programação orientada a objetos.\n",
    "\n",
    "Python trabalha tanto com funções como também com métodos."
   ]
  },
  {
   "cell_type": "markdown",
   "metadata": {},
   "source": [
    "## Funções\n",
    "Uma função é um bloco de programa contendo início e fim e identificado por um nome, por meio do qual será referenciado em qualquer parte do programa principal ou em outra função.\n",
    "\n",
    "A característica principal de uma função é que há retorno de valor ou variável para o programa para o qual fez a chamada a função. Quando uma função é chamada por um programa, ela é executada até o seu término e a execução do programa volta exatamente para a primeira linha de instrução, após a linha que fez a chamada da função."
   ]
  },
  {
   "cell_type": "markdown",
   "metadata": {},
   "source": [
    "```python\n",
    "def <nome da função>(<argumento_1>,<argumento_2>, ..., <argumento_n>):\n",
    "    <instruções a serem executadas pela função>\n",
    "```"
   ]
  },
  {
   "cell_type": "markdown",
   "metadata": {},
   "source": [
    "```python\n",
    "def <nome da função> (<argumento_1>,<argumento_2>, ..., <argumento_n>):\n",
    "    <instruções a serem executadas pela função>\n",
    "    return <valor a ser retornado pela função>\n",
    "```"
   ]
  },
  {
   "cell_type": "markdown",
   "metadata": {},
   "source": [
    "### Exemplo"
   ]
  },
  {
   "cell_type": "code",
   "execution_count": null,
   "metadata": {},
   "outputs": [],
   "source": [
    "def foo():\n",
    "    print(\"foo\")"
   ]
  },
  {
   "cell_type": "markdown",
   "metadata": {},
   "source": [
    "## Docstrings em Funções\n",
    "\n",
    "É sempre bom você colocar *docstrings* em funções (veja a [PEP-257](https://www.python.org/dev/peps/pep-0257/)).\n",
    "\n",
    "Veja um exemplo:"
   ]
  },
  {
   "cell_type": "code",
   "execution_count": null,
   "metadata": {},
   "outputs": [],
   "source": [
    "def servico_restaurante(valor):\n",
    "    \"\"\"\n",
    "    Adiciona 10% ao final de um valor\n",
    "    \"\"\"\n",
    "    valor *= 1.10\n",
    "    print(f\"Com serviço de 10%: R${valor}\")\n",
    "    return valor"
   ]
  },
  {
   "cell_type": "code",
   "execution_count": null,
   "metadata": {},
   "outputs": [
    {
     "name": "stdout",
     "output_type": "stream",
     "text": [
      "Com serviço de 10%: R$90.2\n"
     ]
    },
    {
     "data": {
      "text/plain": [
       "90.2"
      ]
     },
     "metadata": {},
     "output_type": "display_data"
    }
   ],
   "source": [
    "servico_restaurante(82)"
   ]
  },
  {
   "cell_type": "markdown",
   "metadata": {},
   "source": [
    "## Funções Anônimas -- `lambda`s\n",
    "\n",
    "Lambda's, ou funções anônimas, são expressões que permitem representar uma função sem precisar defini-la explicitamente. Assim, pode deixar o código mais facil, mais claro e mais rápido de ser lido. \n",
    "\n",
    "Em Python as funções anônimas usam a keyword `lambda`.\n",
    "\n",
    "Exemplos:\n",
    "\n",
    "* identidade: `lambda x: x`\n",
    "* quadrática: `lambda x: x**2`\n",
    "* adição dois números: `lambda x, y: x + y`\n",
    "\n",
    "### Outras funções utilizadas com `lambda`s\n",
    "\n",
    "1. `map` - Aplica uma função a cada item de uma lista ou dicionário e retorna um novo iterador para recuperar os resultados. Essa função retorna um objeto de mapa (um iterador). Também é possível passar o objeto de mapa para a função `list`, ou outro tipo de sequência, para criar um iterável.\n",
    "\n",
    "2. `filter` - Filtra uma sequência dada com a ajuda de uma função que testa cada elemento na sequência para verificar se é verdadeiro ou falso ou se foi encontrado. \n",
    "\n",
    "3. `reduce` - É usada para aplicar uma função particular passada em seu argumento a todos os elementos da lista mencionados na seqüência passada."
   ]
  },
  {
   "cell_type": "code",
   "execution_count": null,
   "metadata": {},
   "outputs": [
    {
     "data": {
      "text/plain": [
       "['GATO', 'CACHORRO', 'VACA']"
      ]
     },
     "metadata": {},
     "output_type": "display_data"
    }
   ],
   "source": [
    "list(map(lambda x: x.upper(), ['gato', 'cachorro', 'vaca']))"
   ]
  },
  {
   "cell_type": "code",
   "execution_count": null,
   "metadata": {},
   "outputs": [
    {
     "data": {
      "text/plain": [
       "['gato', 'cachorro']"
      ]
     },
     "metadata": {},
     "output_type": "display_data"
    }
   ],
   "source": [
    "list(filter(lambda x: 'o' in x, ['gato', 'cachorro', 'vaca']))"
   ]
  },
  {
   "cell_type": "code",
   "execution_count": null,
   "metadata": {},
   "outputs": [
    {
     "data": {
      "text/plain": [
       "6"
      ]
     },
     "metadata": {},
     "output_type": "display_data"
    }
   ],
   "source": [
    "from functools import reduce\n",
    "\n",
    "pares = [(1, 'a'), (2, 'b'), (3, 'c')]\n",
    "reduce(lambda acc, par: acc + par[0], pares, 0)"
   ]
  },
  {
   "cell_type": "code",
   "execution_count": null,
   "metadata": {},
   "outputs": [
    {
     "data": {
      "text/plain": [
       "'0, 1, 2, 3, 4, 5, 6, 7, 8, 9'"
      ]
     },
     "metadata": {},
     "output_type": "display_data"
    }
   ],
   "source": [
    "reduce(lambda x, y: f\"{x}, {y}\", [0, 1, 2, 3, 4, 5, 6, 7, 8, 9])"
   ]
  },
  {
   "cell_type": "markdown",
   "metadata": {},
   "source": [
    "**Atenção com lambdas**\n",
    "\n",
    "[PEP-8](https://www.python.org/dev/peps/pep-0008/#programming-recommendations):\n",
    "\n",
    "> Always use a def statement instead of an assignment statement that binds a lambda expression directly to an identifier.\n",
    "\n",
    "Você pode usar uma função `factorial` do módulo `math` da biblioteca padrão:"
   ]
  },
  {
   "cell_type": "code",
   "execution_count": null,
   "metadata": {},
   "outputs": [
    {
     "data": {
      "text/plain": [
       "120"
      ]
     },
     "metadata": {},
     "output_type": "display_data"
    }
   ],
   "source": [
    "from math import factorial\n",
    "\n",
    "n = 5\n",
    "factorial(n)"
   ]
  },
  {
   "cell_type": "markdown",
   "metadata": {},
   "source": [
    "Ou se torturar com uma lambda recursiva:"
   ]
  },
  {
   "cell_type": "code",
   "execution_count": null,
   "metadata": {},
   "outputs": [
    {
     "data": {
      "text/plain": [
       "120"
      ]
     },
     "metadata": {},
     "output_type": "display_data"
    }
   ],
   "source": [
    "(lambda f: (lambda x: f(lambda v: x(x)(v)))(lambda x: f(lambda v: x(x)(v))))(lambda f: (lambda i: 1 if (i == 0) else i * f(i - 1)))(n)"
   ]
  },
  {
   "cell_type": "markdown",
   "metadata": {},
   "source": [
    "## Atividade Função #1\n",
    "\n",
    "Fazer uma função chamada `potencia` que tem dois argumentos:\n",
    "* argumento `numero`: um numero real `float` ou inteiro `int`\n",
    "* argumento `potencia`: um numero real `float` ou inteiro `int`\n",
    "\n",
    "Ela deve retornar o argumento `numero` elevado ao argumento `potencia`"
   ]
  },
  {
   "cell_type": "code",
   "execution_count": null,
   "metadata": {},
   "outputs": [],
   "source": [
    "def potencia(numero, potencia):\n",
    "    assert isinstance(numero, int) or isinstance(numero, float)\n",
    "    assert isinstance(potencia, int) or isinstance(potencia, float)\n",
    "    #return $$$$"
   ]
  },
  {
   "cell_type": "code",
   "execution_count": null,
   "metadata": {},
   "outputs": [],
   "source": [
    "assert potencia(2, 3) == 8\n",
    "assert potencia(2, 3.6) == 12.125732532083186"
   ]
  },
  {
   "cell_type": "code",
   "execution_count": null,
   "metadata": {},
   "outputs": [],
   "source": [
    "potencia(5, 2)"
   ]
  },
  {
   "cell_type": "code",
   "execution_count": null,
   "metadata": {},
   "outputs": [],
   "source": [
    "def funcao(arg1, arg2):\n",
    "    print(arg1)\n",
    "    print(arg2)"
   ]
  },
  {
   "cell_type": "markdown",
   "metadata": {},
   "source": [
    "## Atividade Função #2\n",
    "\n",
    "Lembram-se que o módulo de um número inteiro pode determinar se ele é *ímpar* ou *par*?\n",
    "\n",
    "```python\n",
    "15 % 2    # 1\n",
    "14 % 2    # 0\n",
    "```\n",
    "\n",
    "Fazer uma função chamada `numero_par` que tem um argumento:\n",
    "* argumento `numero`: um numero inteiro `int`\n",
    "\n",
    "Ela deve testar se o número é par e retorna um `bool` `True` ou `False`"
   ]
  },
  {
   "cell_type": "code",
   "execution_count": null,
   "metadata": {},
   "outputs": [],
   "source": [
    "def numero_par(numero):\n",
    "    assert isinstance(numero, int)\n",
    "    $$$$\n",
    "    return $$$"
   ]
  },
  {
   "cell_type": "code",
   "execution_count": null,
   "metadata": {},
   "outputs": [],
   "source": [
    "assert numero_par(2) == True\n",
    "assert numero_par(3) == False"
   ]
  },
  {
   "cell_type": "code",
   "execution_count": null,
   "metadata": {},
   "outputs": [],
   "source": [
    "numero_par(15)"
   ]
  },
  {
   "cell_type": "markdown",
   "metadata": {},
   "source": [
    "## Atividade Função #3\n",
    "Desenvolva uma função (denominada **calcula**) que receba 5 números (no formato de lista) e retorne: o maior e o menor número, a soma dos números e a média. Mostre separadamente os valores."
   ]
  },
  {
   "cell_type": "code",
   "execution_count": null,
   "metadata": {},
   "outputs": [],
   "source": [
    "def calcula(lista):\n",
    "    ##\n",
    "    return (maior, menor, soma, media)"
   ]
  },
  {
   "cell_type": "code",
   "execution_count": null,
   "metadata": {},
   "outputs": [],
   "source": [
    "maior, menor, soma, media = calcula([1, 2, 3, 4, 5])\n",
    "print('Maior:', maior)\n",
    "print('Menor:', menor)\n",
    "print('Soma.:', soma)\n",
    "print('Média:', media)"
   ]
  },
  {
   "cell_type": "markdown",
   "metadata": {},
   "source": [
    "## Atividade Função #4\n",
    "Desenvolva uma expressão `lambda` que calcule o reajuste das parcelas (no formato de lista) em **4%** e mostre o resultado de cada uma já com o reajuste.\n",
    "\n",
    "Saída: [130.38, 245.22, 165.39, 244.41, 1065.53]"
   ]
  },
  {
   "cell_type": "code",
   "execution_count": null,
   "metadata": {},
   "outputs": [],
   "source": [
    "parcelas = [125.37, 235.79, 159.03, 235.01, 1024.55]\n",
    "reajustadas = list(map($$$)\n",
    "print(reajustadas)"
   ]
  }
 ],
 "metadata": {
  "celltoolbar": "Slideshow",
  "kernelspec": {
   "display_name": "Python [conda env:ciencia-de-dados]",
   "language": "python",
   "name": "conda-env-ciencia-de-dados-py"
  },
  "language_info": {
   "codemirror_mode": {
    "name": "ipython",
    "version": 3
   },
   "file_extension": ".py",
   "mimetype": "text/x-python",
   "name": "python",
   "nbconvert_exporter": "python",
   "pygments_lexer": "ipython3",
   "version": "3.7.10"
  },
  "rise": {
   "autolaunch": true,
   "enable_chalkboard": true,
   "progress": true,
   "scroll": true,
   "slideNumber": true,
   "theme": "black"
  }
 },
 "nbformat": 4,
 "nbformat_minor": 4
}
